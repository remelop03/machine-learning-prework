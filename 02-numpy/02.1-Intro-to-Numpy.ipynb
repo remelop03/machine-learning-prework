{
 "cells": [
  {
   "attachments": {},
   "cell_type": "markdown",
   "id": "bdfbcacc",
   "metadata": {},
   "source": [
    "![NumPy logo](https://github.com/4GeeksAcademy/machine-learning-prework/blob/main/02-numpy/assets/numpy_logo.png?raw=true)\n",
    "\n",
    "## Introduction to NumPy\n",
    "\n",
    "**NumPy** means **Numerical Python**. It is an open-source library used to perform mathematical tasks with very high efficiency. In addition, it introduces data structures, such as multidimensional arrays, which can be operated on at a high level, without getting too much into the details.\n",
    "\n",
    "Specifically, the keys to this library are:\n",
    "\n",
    "- **Multidimensional arrays**: This library provides an object called `ndarray`, which allows you to store and manipulate large data sets efficiently. Arrays can have any number of dimensions.\n",
    "- **Vectorized operations**: NumPy allows performing mathematical operations on complete arrays without the need for explicit loops in the code, which makes it very fast and efficient.\n",
    "- **Mathematical functions**: NumPy provides a wide range of mathematical functions for working with arrays, including trigonometric functions, statistics, and linear algebra, among others.\n",
    "- **Efficiency**: It is much faster than the same functionality implemented directly on native Python. It is also very flexible in terms of accessing and manipulating individual elements or subsets of arrays.\n",
    "\n",
    "NumPy is a fundamental library for Machine Learning and data science in Python. It provides a wide range of tools and functions to work efficiently with numerical data in the form of arrays and matrices."
   ]
  },
  {
   "cell_type": "markdown",
   "id": "dc410026",
   "metadata": {},
   "source": [
    "### Arrays\n",
    "\n",
    "A NumPy **array** is a data structure that allows you to store a collection of elements, usually numbers, in one or more dimensions.\n",
    "\n",
    "#### One-dimensional Array\n",
    "\n",
    "A one-dimensional (1D) array in NumPy is a data structure that contains a sequence of elements in a single dimension. It is similar to a list in Python, but with the performance and functionality advantages offered by NumPy.\n",
    "\n",
    "![One dimensional array](https://github.com/4GeeksAcademy/machine-learning-prework/blob/main/02-numpy/assets/1D.png?raw=true \"1D\")\n",
    "\n",
    "A 1D array can be created using the `array` function of the library with a list of elements as an argument. For example:"
   ]
  },
  {
   "cell_type": "code",
   "execution_count": null,
   "id": "d8a0686b",
   "metadata": {},
   "outputs": [
    {
     "data": {
      "text/plain": [
       "array([1, 2, 3, 4, 5])"
      ]
     },
     "execution_count": 6,
     "metadata": {},
     "output_type": "execute_result"
    }
   ],
   "source": [
    "import numpy as np\n",
    "\n",
    "array = np.array([1, 2, 3, 4, 5])\n",
    "array"
   ]
  },
  {
   "cell_type": "markdown",
   "id": "e090f7a0",
   "metadata": {},
   "source": [
    "This will create a 1D array with elements 1, 2, 3, 4 and 5. The array elements must be of the same data type. If the elements are of different types, NumPy will try to convert them to the same type if possible.\n",
    "\n",
    "In a 1D array, we can access the elements using **indexes**, modify them and perform mathematical operations on the whole array efficiently. Below are some operations that can be performed using the above array:"
   ]
  },
  {
   "cell_type": "code",
   "execution_count": null,
   "id": "a56cb1b0",
   "metadata": {},
   "outputs": [
    {
     "name": "stdout",
     "output_type": "stream",
     "text": [
      "3\n",
      "[1 7 3 4 5]\n",
      "[11 17 13 14 15]\n",
      "70\n"
     ]
    }
   ],
   "source": [
    "# Access the third element\n",
    "print(array[2])\n",
    "\n",
    "# Change the value of the second element\n",
    "array[1] = 7\n",
    "print(array)\n",
    "\n",
    "# Add 10 to all elements\n",
    "array += 10\n",
    "print(array)\n",
    "\n",
    "# Calculate the sum of the elements\n",
    "sum_all = np.sum(array)\n",
    "print(sum_all)"
   ]
  },
  {
   "cell_type": "markdown",
   "id": "322771b1",
   "metadata": {},
   "source": [
    "#### N-dimensional Array\n",
    "\n",
    "A multidimensional or n-dimensional array in NumPy is a data structure that organizes elements in multiple dimensions (axes). These arrays allow you to represent more complex data structures, such as matrixes (2D array, 2 axes), tensors (3D array, 3 axes) and higher-dimensional structures.\n",
    "\n",
    "![Arrays of different dimensions](https://github.com/4GeeksAcademy/machine-learning-prework/blob/main/02-numpy/assets/3D.png?raw=true \"3D\")\n",
    "\n",
    "An N-dimensional array can also be created using the `array` function of the library. For example, if we want to create a 2D array:"
   ]
  },
  {
   "cell_type": "code",
   "execution_count": null,
   "id": "2033ba3c",
   "metadata": {},
   "outputs": [
    {
     "data": {
      "text/plain": [
       "array([[1, 2, 3],\n",
       "       [4, 5, 6],\n",
       "       [7, 8, 9]])"
      ]
     },
     "execution_count": 3,
     "metadata": {},
     "output_type": "execute_result"
    }
   ],
   "source": [
    "array_2d = np.array([[1, 2, 3], [4, 5, 6], [7, 8, 9]])\n",
    "array_2d"
   ]
  },
  {
   "cell_type": "markdown",
   "id": "d3dac6c2",
   "metadata": {},
   "source": [
    "If we now wanted to create a 3D array, we would have to think of it as a list of arrays:"
   ]
  },
  {
   "cell_type": "code",
   "execution_count": null,
   "id": "bc914841",
   "metadata": {},
   "outputs": [
    {
     "data": {
      "text/plain": [
       "array([[[1, 2],\n",
       "        [3, 4]],\n",
       "\n",
       "       [[5, 6],\n",
       "        [7, 8]]])"
      ]
     },
     "execution_count": 4,
     "metadata": {},
     "output_type": "execute_result"
    }
   ],
   "source": [
    "array_3d = np.array([[[1, 2], [3, 4]], [[5, 6], [7, 8]]])\n",
    "array_3d"
   ]
  },
  {
   "cell_type": "markdown",
   "id": "da7bcb64",
   "metadata": {},
   "source": [
    "As with 1D arrays, the elements in a multidimensional array are accessible via indexes, operations can be performed on them, and so on.\n",
    "\n",
    "As we add more dimensions, the basic principle remains the same: each additional dimension can be considered an additional level of nesting. However, on a practical level, working with arrays of more than 3 or 4 dimensions can become more complex and less intuitive.\n",
    "\n",
    "The n-dimensional arrays in NumPy allow great flexibility and power to represent and manipulate data in more complex ways, especially useful in fields such as data science, image processing and deep learning."
   ]
  },
  {
   "cell_type": "markdown",
   "id": "d699ac98",
   "metadata": {},
   "source": [
    "### Functions\n",
    "\n",
    "NumPy provides a large number of predefined functions that can be applied directly to the data structures seen above or to Python's own data structures (lists, arrays, etc.). Some of the most commonly used in data analysis are:"
   ]
  },
  {
   "cell_type": "code",
   "execution_count": null,
   "id": "e7680306",
   "metadata": {},
   "outputs": [
    {
     "name": "stdout",
     "output_type": "stream",
     "text": [
      "Sum: [ 6  7  8  9 10]\n",
      "Product: [ 3  6  9 12 15]\n",
      "Natural logarithm: [0.         0.69314718 1.09861229 1.38629436 1.60943791]\n",
      "Exponential: [  2.71828183   7.3890561   20.08553692  54.59815003 148.4131591 ]\n",
      "Mean: 3.0\n",
      "Median: 3.0\n",
      "Standard Deviation: 1.4142135623730951\n",
      "Variance: 2.0\n",
      "Maximum value: 5\n",
      "Maximum value index: 4\n",
      "Minimum value: 1\n",
      "Minimum value index: 0\n",
      "Sum of all elements: 15\n",
      "Rounding: [1. 2. 4. 5.]\n",
      "Minor integer (floor): [1. 2. 3. 4.]\n",
      "Major integer (ceil): [2. 3. 4. 5.]\n"
     ]
    }
   ],
   "source": [
    "import numpy as np\n",
    "\n",
    "# Create an array for the example\n",
    "arr = np.array([1, 2, 3, 4, 5])\n",
    "\n",
    "# Arithmetic Operations\n",
    "print(\"Sum:\", np.add(arr, 5))\n",
    "print(\"Product:\", np.multiply(arr, 3))\n",
    "\n",
    "# Logarithmic and Exponential\n",
    "print(\"Natural logarithm:\", np.log(arr))\n",
    "print(\"Exponential:\", np.exp(arr))\n",
    "\n",
    "# Statistical Functions\n",
    "print(\"Mean:\", np.mean(arr))\n",
    "print(\"Median:\", np.median(arr))\n",
    "print(\"Standard Deviation:\", np.std(arr))\n",
    "print(\"Variance:\", np.var(arr))\n",
    "print(\"Maximum value:\", np.max(arr))\n",
    "print(\"Maximum value index:\", np.argmax(arr))\n",
    "print(\"Minimum value:\", np.min(arr))\n",
    "print(\"Minimum value index:\", np.argmin(arr))\n",
    "print(\"Sum of all elements:\", np.sum(arr))\n",
    "\n",
    "# Rounding Functions\n",
    "arr_decimal = np.array([1.23, 2.47, 3.56, 4.89])\n",
    "print(\"Rounding:\", np.around(arr_decimal))\n",
    "print(\"Minor integer (floor):\", np.floor(arr_decimal))\n",
    "print(\"Major integer (ceil):\", np.ceil(arr_decimal))"
   ]
  },
  {
   "cell_type": "markdown",
   "id": "51b5cda3",
   "metadata": {},
   "source": [
    "## Exercises: Click on \"open in colab\" to start practicing\n",
    "\n",
    "> Solution: https://github.com/4GeeksAcademy/machine-learning-prework/blob/main/02-numpy/02.1-Intro-to-Numpy_solutions.ipynb\n",
    "\n",
    "### Array creation"
   ]
  },
  {
   "cell_type": "markdown",
   "id": "e3c20b3d",
   "metadata": {},
   "source": [
    "#### Exercise 01: Create a **null vector** that contains 10 elements (★☆☆)\n",
    "\n",
    "A null vector is a one-dimensional array composed of zeros (`0`).\n",
    "\n",
    "> NOTE: Check the function `np.zeros` (https://numpy.org/doc/stable/reference/generated/numpy.zeros.html)"
   ]
  },
  {
   "cell_type": "code",
   "execution_count": null,
   "id": "8a758bcf",
   "metadata": {},
   "outputs": [],
   "source": []
  },
  {
   "cell_type": "markdown",
   "id": "6cbe7954",
   "metadata": {},
   "source": [
    "#### Exercise 02: Create a vector of ones with 10 elements (★☆☆)\n",
    "\n",
    "> NOTE: Check the function `np.ones` (https://numpy.org/doc/stable/reference/generated/numpy.ones.html)"
   ]
  },
  {
   "cell_type": "code",
   "execution_count": null,
   "id": "86477874",
   "metadata": {},
   "outputs": [],
   "source": []
  },
  {
   "cell_type": "markdown",
   "id": "0a708990",
   "metadata": {},
   "source": [
    "#### Exercise 03: Investigate the `linspace` function of NumPy and create an array with 10 elements (★☆☆)\n",
    "\n",
    "> NOTE: Check the function `np.linspace` (https://numpy.org/doc/stable/reference/generated/numpy.linspace.html)"
   ]
  },
  {
   "cell_type": "code",
   "execution_count": null,
   "id": "477e01f4",
   "metadata": {},
   "outputs": [],
   "source": []
  },
  {
   "cell_type": "markdown",
   "id": "9794fe71",
   "metadata": {},
   "source": [
    "#### Exercise 04: Find several ways to generate an array with random numbers and create a 1D array and two 2D arrays (★★☆)\n",
    "\n",
    "> NOTE: Check the functions `np.random.rand` (https://numpy.org/doc/stable/reference/random/generated/numpy.random.rand.html), `np.random.randint` (https://numpy.org/doc/stable/reference/random/generated/numpy.random.randint.html) and `np.random.randn` (https://numpy.org/doc/stable/reference/random/generated/numpy.random.randn.html)"
   ]
  },
  {
   "cell_type": "code",
   "execution_count": null,
   "id": "3d9a48a7",
   "metadata": {},
   "outputs": [],
   "source": []
  },
  {
   "cell_type": "markdown",
   "id": "78a37e5c",
   "metadata": {},
   "source": [
    "#### Exercise 05: Create a 5x5 identity matrix (2D array) (★☆☆)\n",
    "\n",
    "\n",
    "> NOTE: Check the function `np.eye`(https://numpy.org/devdocs/reference/generated/numpy.eye.html)"
   ]
  },
  {
   "cell_type": "code",
   "execution_count": null,
   "id": "a6751106",
   "metadata": {},
   "outputs": [],
   "source": []
  },
  {
   "cell_type": "markdown",
   "id": "08bb63e6",
   "metadata": {},
   "source": [
    "#### Exercise 06: Create a 3x2 random number matrix and calculate the minimum and maximum value (★☆☆)\n",
    "\n",
    "> NOTE: Check the functions `np.min` (https://numpy.org/devdocs/reference/generated/numpy.min.html) and `np.max` (https://numpy.org/devdocs/reference/generated/numpy.max.html)"
   ]
  },
  {
   "cell_type": "code",
   "execution_count": null,
   "id": "3214cca1",
   "metadata": {},
   "outputs": [],
   "source": []
  },
  {
   "cell_type": "markdown",
   "id": "57c6c275",
   "metadata": {},
   "source": [
    "#### Exercise 07: Create a vector of 30 elements that are random numbers and calculate the mean. (★☆☆)\n",
    "\n",
    "> NOTE: Check the function `np.mean` (https://numpy.org/doc/stable/reference/generated/numpy.mean.html)"
   ]
  },
  {
   "cell_type": "code",
   "execution_count": null,
   "id": "cc960ba5",
   "metadata": {},
   "outputs": [],
   "source": []
  },
  {
   "cell_type": "markdown",
   "id": "2c801667",
   "metadata": {},
   "source": [
    "#### Exercise 08: Converts the list `[1, 2, 3]` and the tuple `(1, 2, 3)` to arrays (★☆☆)"
   ]
  },
  {
   "cell_type": "code",
   "execution_count": null,
   "id": "3f36c71c",
   "metadata": {},
   "outputs": [],
   "source": []
  },
  {
   "cell_type": "markdown",
   "id": "962bb9fc",
   "metadata": {},
   "source": [
    "### Operations between arrays"
   ]
  },
  {
   "cell_type": "markdown",
   "id": "48d48f01",
   "metadata": {},
   "source": [
    "#### Exercise 09: Invert the vector of the previous exercise (★☆☆)\n",
    "\n",
    "> NOTE: Check the function `np.flip` (https://numpy.org/doc/stable/reference/generated/numpy.flip.html)"
   ]
  },
  {
   "cell_type": "code",
   "execution_count": null,
   "id": "d3e13052",
   "metadata": {},
   "outputs": [],
   "source": []
  },
  {
   "cell_type": "markdown",
   "id": "233addce",
   "metadata": {},
   "source": [
    "#### Exercise 10: Change the size of a random array of dimensions 5x12 into 12x5 (★☆☆)\n",
    "\n",
    "> NOTE: Check the function `np.reshape` (https://numpy.org/doc/stable/reference/generated/numpy.reshape.html)"
   ]
  },
  {
   "cell_type": "code",
   "execution_count": null,
   "id": "bfaed09f",
   "metadata": {},
   "outputs": [],
   "source": []
  },
  {
   "cell_type": "markdown",
   "id": "645e5381",
   "metadata": {},
   "source": [
    "#### Exercise 11: Convert the list `[1, 2, 0, 0, 0, 4, 0]` into an array and get the index of the non-zero elements (★★☆)\n",
    "\n",
    "> NOTE: Check the function `np.where` (https://numpy.org/devdocs/reference/generated/numpy.where.html)"
   ]
  },
  {
   "cell_type": "code",
   "execution_count": null,
   "id": "b2652fee",
   "metadata": {},
   "outputs": [],
   "source": []
  },
  {
   "cell_type": "markdown",
   "id": "e7948dbb",
   "metadata": {},
   "source": [
    "#### Exercise 12: Convert the list `[0, 5, -1, 3, 15]` into an array, multiply its values by `-2` and obtain the even elements (★★☆)"
   ]
  },
  {
   "cell_type": "code",
   "execution_count": null,
   "metadata": {},
   "outputs": [],
   "source": []
  },
  {
   "cell_type": "markdown",
   "id": "a90d6f3e",
   "metadata": {},
   "source": [
    "#### Exercise 13: Create a random vector of 10 elements and order it from smallest to largest (★★☆)\n",
    "\n",
    "> NOTE: Check the function `np.sort` (https://numpy.org/doc/stable/reference/generated/numpy.sort.html)"
   ]
  },
  {
   "cell_type": "code",
   "execution_count": null,
   "id": "bc373a83",
   "metadata": {},
   "outputs": [],
   "source": []
  },
  {
   "cell_type": "markdown",
   "id": "5e9b6115",
   "metadata": {},
   "source": [
    "#### Exercise 14: Generate two random vectors of 8 elements and apply the operations of addition, subtraction and multiplication between them (★★☆)\n",
    "\n",
    "> NOTE: Check the math module functions: https://numpy.org/doc/stable/reference/routines.math.html"
   ]
  },
  {
   "cell_type": "code",
   "execution_count": null,
   "id": "cc77e421",
   "metadata": {},
   "outputs": [],
   "source": []
  },
  {
   "cell_type": "markdown",
   "id": "c8e8daa0",
   "metadata": {},
   "source": [
    "#### Exercise 15: Convert the list `[1, 2, 3, 4, 5, 6, 7, 8, 9, 10, 11, 12]` into an array and transform it into a matrix with rows of 3 columns (★★★)"
   ]
  },
  {
   "cell_type": "code",
   "execution_count": null,
   "metadata": {},
   "outputs": [],
   "source": []
  }
 ],
 "metadata": {
  "kernelspec": {
   "display_name": "Python 3",
   "language": "python",
   "name": "python3"
  },
  "language_info": {
   "codemirror_mode": {
    "name": "ipython",
    "version": 3
   },
   "file_extension": ".py",
   "mimetype": "text/x-python",
   "name": "python",
   "nbconvert_exporter": "python",
   "pygments_lexer": "ipython3",
   "version": "3.11.4"
  }
 },
 "nbformat": 4,
 "nbformat_minor": 5
}
