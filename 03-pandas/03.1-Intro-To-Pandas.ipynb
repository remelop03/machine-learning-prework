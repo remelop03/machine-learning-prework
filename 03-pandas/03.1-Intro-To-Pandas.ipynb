{
 "cells": [
  {
   "attachments": {},
   "cell_type": "markdown",
   "id": "bdfbcacc",
   "metadata": {},
   "source": [
    "![Pandas logo](https://github.com/4GeeksAcademy/machine-learning-prework/blob/main/03-pandas/assets/pandas_logo.png?raw=true)\n",
    "\n",
    "## Introduction to Python Pandas\n",
    "\n",
    "**Pandas** is an open-source python library that provides data structures and is designed to handle and analyze tabular data in Python. Pandas is based on NumPy, which allows it to integrate well into the data science ecosystem alongside other libraries such as `Scikit-learn` and `Matplotlib`.\n",
    "\n",
    "Specifically, the key points of this library are:\n",
    "\n",
    "- **Data structures**: This library provides two structures for working with data. These are the `Series` which are labeled one-dimensional arrays, similar to a vector, list or sequence and which is able to contain any type of data, and the `DataFrames`, which is a labeled two-dimensional structure with columns that can be of different types, similar to a spreadsheet or a SQL table.\n",
    "- **Data manipulation**: Pandas allows you to carry out an exhaustive data analysis through functions that can be applied directly on your data structures. These operations include missing data control, data filtering, merging, combining and joining data from different sources...\n",
    "- **Efficiency**: All operations and/or functions that are applied on data structures are vectorized to improve performance compared to traditional Python loops and iterators.\n",
    "\n",
    "Pandas is a fundamental tool for any developer working with data in Python, as it provides a wide variety of tools for data exploration, cleaning and transformation, making the analysis process more efficient and effective."
   ]
  },
  {
   "attachments": {},
   "cell_type": "markdown",
   "id": "40631cd6",
   "metadata": {},
   "source": [
    "### Data Structures in Python Pandas\n",
    "\n",
    "Pandas provides two main data structures: `Series` and `DataFrames`.\n",
    "\n",
    "#### Series\n",
    "\n",
    "A **series** in Pandas is a one-dimensional labeled data structure. It is similar to a 1D array in NumPy, but has an index that allows access to the values by label. A series can contain any kind of data: integers, strings, Python objects...\n",
    "\n",
    "![Example of a series](https://github.com/4GeeksAcademy/machine-learning-prework/blob/main/03-pandas/assets/series.PNG?raw=true)\n",
    "\n",
    "A Pandas series has two distinct parts:\n",
    "\n",
    "- **Index** (*index*): An array of tags associated with the data.\n",
    "- **Value** (*value*): An array of data.\n",
    "\n",
    "A series can be created using the `Series` class of the library with a list of elements as an argument. For example:"
   ]
  },
  {
   "cell_type": "code",
   "execution_count": 1,
   "id": "21653d4f",
   "metadata": {},
   "outputs": [
    {
     "data": {
      "text/plain": [
       "0    1\n",
       "1    2\n",
       "2    3\n",
       "3    4\n",
       "4    5\n",
       "dtype: int64"
      ]
     },
     "execution_count": 1,
     "metadata": {},
     "output_type": "execute_result"
    }
   ],
   "source": [
    "import pandas as pd\n",
    "\n",
    "serie = pd.Series([1, 2, 3, 4, 5])\n",
    "serie"
   ]
  },
  {
   "cell_type": "markdown",
   "id": "d1c2dda1",
   "metadata": {},
   "source": [
    "This will create a series with elements 1, 2, 3, 4 and 5. In addition, since we have not included information about the indexes, an automatic index is generated starting at 0:"
   ]
  },
  {
   "cell_type": "code",
   "execution_count": null,
   "id": "2d4c091d",
   "metadata": {},
   "outputs": [
    {
     "data": {
      "text/plain": [
       "a    1\n",
       "b    2\n",
       "c    3\n",
       "d    4\n",
       "e    5\n",
       "dtype: int64"
      ]
     },
     "execution_count": 2,
     "metadata": {},
     "output_type": "execute_result"
    }
   ],
   "source": [
    "serie = pd.Series([1, 2, 3, 4, 5], index = [\"a\", \"b\", \"c\", \"d\", \"e\"])\n",
    "serie"
   ]
  },
  {
   "cell_type": "markdown",
   "id": "f7588c91",
   "metadata": {},
   "source": [
    "Thus, the previous series has an index composed of letters.\n",
    "\n",
    "Both series store the same values, but the way they are accessed may vary according to the index.\n",
    "\n",
    "In a series, its elements can be accessed by index or by position (the latter is what we did in NumPy). Below are some operations that can be performed using the above series:"
   ]
  },
  {
   "cell_type": "code",
   "execution_count": 3,
   "id": "0f90b9e7",
   "metadata": {},
   "outputs": [
    {
     "name": "stdout",
     "output_type": "stream",
     "text": [
      "3\n",
      "3\n",
      "a    1\n",
      "b    7\n",
      "c    3\n",
      "d    4\n",
      "e    5\n",
      "dtype: int64\n",
      "a    11\n",
      "b    17\n",
      "c    13\n",
      "d    14\n",
      "e    15\n",
      "dtype: int64\n",
      "70\n"
     ]
    }
   ],
   "source": [
    "# Access the third element\n",
    "print(serie[\"c\"]) # By index\n",
    "print(serie[2]) # By position\n",
    "\n",
    "# Change the value of the second element\n",
    "serie[\"b\"] = 7\n",
    "print(serie)\n",
    "\n",
    "# Add 10 to all elements\n",
    "serie += 10\n",
    "print(serie)\n",
    "\n",
    "# Calculate the sum of the elements\n",
    "sum_all = serie.sum()\n",
    "print(sum_all)"
   ]
  },
  {
   "cell_type": "markdown",
   "id": "e4fe3649",
   "metadata": {},
   "source": [
    "#### Pandas DataFrame\n",
    "\n",
    "A **DataFrame** in Pandas is a two-dimensional labeled data structure. It is similar to a 2D array in NumPy, but has an index that allows access to the values per label, per row, and column.\n",
    "\n",
    "![Example of a DataFrame](https://github.com/4GeeksAcademy/machine-learning-prework/blob/main/03-pandas/assets/dataframe.PNG?raw=true)\n",
    "\n",
    "A DataFrame in Pandas has several differentiated parts:\n",
    "\n",
    "- **Data** (*data*): An array of values that can be of different types per column.\n",
    "- **Row index** (*row index*): An array of labels associated to the rows.\n",
    "- **Column index** (*column index*): An array of labels associated to the columns.\n",
    "\n",
    "A DataFrame can be seen as a set of series joined in a tabular structure, with an index per row in common and a column index specific to each series.\n",
    "\n",
    "![Series and DataFrames](https://github.com/4GeeksAcademy/machine-learning-prework/blob/main/03-pandas/assets/series_dataframe.png?raw=true?raw=true)\n",
    "\n",
    "A DataFrame can be created using the `DataFrame` class. For example:"
   ]
  },
  {
   "cell_type": "code",
   "execution_count": 4,
   "id": "3947a09a",
   "metadata": {},
   "outputs": [
    {
     "data": {
      "text/html": [
       "<div>\n",
       "<style scoped>\n",
       "    .dataframe tbody tr th:only-of-type {\n",
       "        vertical-align: middle;\n",
       "    }\n",
       "\n",
       "    .dataframe tbody tr th {\n",
       "        vertical-align: top;\n",
       "    }\n",
       "\n",
       "    .dataframe thead th {\n",
       "        text-align: right;\n",
       "    }\n",
       "</style>\n",
       "<table border=\"1\" class=\"dataframe\">\n",
       "  <thead>\n",
       "    <tr style=\"text-align: right;\">\n",
       "      <th></th>\n",
       "      <th>0</th>\n",
       "      <th>1</th>\n",
       "      <th>2</th>\n",
       "    </tr>\n",
       "  </thead>\n",
       "  <tbody>\n",
       "    <tr>\n",
       "      <th>0</th>\n",
       "      <td>1</td>\n",
       "      <td>2</td>\n",
       "      <td>3</td>\n",
       "    </tr>\n",
       "    <tr>\n",
       "      <th>1</th>\n",
       "      <td>4</td>\n",
       "      <td>5</td>\n",
       "      <td>6</td>\n",
       "    </tr>\n",
       "    <tr>\n",
       "      <th>2</th>\n",
       "      <td>7</td>\n",
       "      <td>8</td>\n",
       "      <td>9</td>\n",
       "    </tr>\n",
       "  </tbody>\n",
       "</table>\n",
       "</div>"
      ],
      "text/plain": [
       "   0  1  2\n",
       "0  1  2  3\n",
       "1  4  5  6\n",
       "2  7  8  9"
      ]
     },
     "execution_count": 4,
     "metadata": {},
     "output_type": "execute_result"
    }
   ],
   "source": [
    "dataframe = pd.DataFrame([[1, 2, 3], [4, 5, 6], [7, 8, 9]])\n",
    "dataframe"
   ]
  },
  {
   "cell_type": "markdown",
   "id": "ccf0e435",
   "metadata": {},
   "source": [
    "This will create a DataFrame with three rows and three columns for each row. As was the case with series, a DataFrame will generate automatic indexes for rows and columns if they are not passed as arguments in the constructor of the class. If we wanted to create a new DataFrame with concrete indexes for rows and columns, it would be programmed as follows:"
   ]
  },
  {
   "cell_type": "code",
   "execution_count": 5,
   "id": "92f62a5c",
   "metadata": {},
   "outputs": [
    {
     "data": {
      "text/html": [
       "<div>\n",
       "<style scoped>\n",
       "    .dataframe tbody tr th:only-of-type {\n",
       "        vertical-align: middle;\n",
       "    }\n",
       "\n",
       "    .dataframe tbody tr th {\n",
       "        vertical-align: top;\n",
       "    }\n",
       "\n",
       "    .dataframe thead th {\n",
       "        text-align: right;\n",
       "    }\n",
       "</style>\n",
       "<table border=\"1\" class=\"dataframe\">\n",
       "  <thead>\n",
       "    <tr style=\"text-align: right;\">\n",
       "      <th></th>\n",
       "      <th>col A</th>\n",
       "      <th>col B</th>\n",
       "      <th>col C</th>\n",
       "    </tr>\n",
       "  </thead>\n",
       "  <tbody>\n",
       "    <tr>\n",
       "      <th>a</th>\n",
       "      <td>1</td>\n",
       "      <td>4</td>\n",
       "      <td>7</td>\n",
       "    </tr>\n",
       "    <tr>\n",
       "      <th>b</th>\n",
       "      <td>2</td>\n",
       "      <td>5</td>\n",
       "      <td>8</td>\n",
       "    </tr>\n",
       "    <tr>\n",
       "      <th>c</th>\n",
       "      <td>3</td>\n",
       "      <td>6</td>\n",
       "      <td>9</td>\n",
       "    </tr>\n",
       "  </tbody>\n",
       "</table>\n",
       "</div>"
      ],
      "text/plain": [
       "   col A  col B  col C\n",
       "a      1      4      7\n",
       "b      2      5      8\n",
       "c      3      6      9"
      ]
     },
     "execution_count": 5,
     "metadata": {},
     "output_type": "execute_result"
    }
   ],
   "source": [
    "data = {\n",
    "    \"col A\": [1, 2, 3],\n",
    "    \"col B\": [4, 5, 6],\n",
    "    \"col C\": [7, 8, 9]\n",
    "}\n",
    "\n",
    "dataframe = pd.DataFrame(data, index = [\"a\", \"b\", \"c\"])\n",
    "dataframe"
   ]
  },
  {
   "cell_type": "markdown",
   "id": "758e57bd",
   "metadata": {},
   "source": [
    "In this way, a custom index is provided for the columns (labeling the rows within a dictionary) and for the rows (with the `index` argument, as was the case with the series).\n",
    "\n",
    "In a DataFrame its elements can be accessed by index or by position. Below are some operations that can be performed using the above DataFrame:"
   ]
  },
  {
   "cell_type": "code",
   "execution_count": 6,
   "id": "258c47ff",
   "metadata": {},
   "outputs": [
    {
     "name": "stdout",
     "output_type": "stream",
     "text": [
      "a    1\n",
      "b    2\n",
      "c    3\n",
      "Name: col A, dtype: int64\n",
      "a    1\n",
      "b    2\n",
      "c    3\n",
      "Name: col A, dtype: int64\n",
      "a    1\n",
      "b    2\n",
      "c    3\n",
      "Name: col A, dtype: int64\n",
      "col A    1\n",
      "col B    4\n",
      "col C    7\n",
      "Name: a, dtype: int64\n",
      "col A    1\n",
      "col B    4\n",
      "col C    7\n",
      "Name: a, dtype: int64\n",
      "1\n",
      "1\n",
      "   col A  col B  col C  col D\n",
      "a      1      4      7     10\n",
      "b      2      5      8     11\n",
      "c      3      6      9     12\n",
      "   col A  col B  col C  col D\n",
      "a      1      4      7     10\n",
      "b      2      5      8     11\n",
      "c      3      6      9     12\n",
      "d     13     14     15     16\n",
      "   col A  col B  col C  col D\n",
      "a     10      4      7     10\n",
      "b     20      5      8     11\n",
      "c     30      6      9     12\n",
      "d    130     14     15     16\n",
      "col A    190\n",
      "col B     29\n",
      "col C     39\n",
      "col D     49\n",
      "dtype: int64\n"
     ]
    }
   ],
   "source": [
    "# Access all the data in a column\n",
    "print(dataframe[\"col A\"]) # By index\n",
    "print(dataframe.loc[:,\"col A\"]) # By index\n",
    "print(dataframe.iloc[:,0]) # By position\n",
    "\n",
    "# Access all the data in a row\n",
    "print(dataframe.loc[\"a\"]) # By index\n",
    "print(dataframe.iloc[0]) # By position\n",
    "\n",
    "# Access to a specific element (row, column)\n",
    "print(dataframe.loc[\"a\", \"col A\"]) # By index\n",
    "print(dataframe.iloc[0, 0]) # By position\n",
    "\n",
    "# Create a new column\n",
    "dataframe[\"col D\"] = [10, 11, 12]\n",
    "print(dataframe)\n",
    "\n",
    "# Create a new row\n",
    "dataframe.loc[\"d\"] = [13, 14, 15, 16]\n",
    "print(dataframe)\n",
    "\n",
    "# Multiply by 10 the elements of a column\n",
    "dataframe[\"col A\"] *= 10\n",
    "print(dataframe)\n",
    "\n",
    "# Calculate the sum of all elements\n",
    "sum_all = dataframe.sum()\n",
    "print(sum_all)"
   ]
  },
  {
   "cell_type": "markdown",
   "id": "1ac3bdaa",
   "metadata": {},
   "source": [
    "### Functions in Python Pandas\n",
    "\n",
    "Pandas provide a large number of predefined functions that can be applied on the data structures seen above. Some of the most used in data analysis are:"
   ]
  },
  {
   "cell_type": "code",
   "execution_count": 7,
   "id": "9a54370c",
   "metadata": {},
   "outputs": [
    {
     "name": "stdout",
     "output_type": "stream",
     "text": [
      "Sum of series: 0    5\n",
      "1    7\n",
      "2    9\n",
      "dtype: int64\n",
      "Sum of DataFrames:     0   1   2\n",
      "0   8  10  12\n",
      "1  14  16  18\n",
      "Mean: 2.0\n",
      "Mediaa: 2.0\n",
      "Number of elements: 3\n",
      "Standard derviation: 1.0\n",
      "Variance: 1.0\n",
      "Maximum value: 3\n",
      "Minimum value: 1\n",
      "Correlation: 1.0\n",
      "Statistic summary: count    3.0\n",
      "mean     2.0\n",
      "std      1.0\n",
      "min      1.0\n",
      "25%      1.5\n",
      "50%      2.0\n",
      "75%      2.5\n",
      "max      3.0\n",
      "dtype: float64\n"
     ]
    }
   ],
   "source": [
    "import pandas as pd\n",
    "\n",
    "s1 = pd.Series([1, 2, 3])\n",
    "s2 = pd.Series([4, 5, 6])\n",
    "d1 = pd.DataFrame([[1, 2, 3], [4, 5, 6]])\n",
    "d2 = pd.DataFrame([[7, 8, 9], [10, 11, 12]])\n",
    "\n",
    "# Arithmetic Operations\n",
    "print(\"Sum of series:\", s1.add(s2))\n",
    "print(\"Sum of DataFrames:\", d1.add(d2))\n",
    "\n",
    "# Statistical Operations\n",
    "# They can be applied in the same way to DataFrames\n",
    "print(\"Mean:\", s1.mean())\n",
    "print(\"Median:\", s1.median())\n",
    "print(\"Number of elements:\", s1.count())\n",
    "print(\"Standard deviation:\", s1.std())\n",
    "print(\"Variance:\", s1.var())\n",
    "print(\"Maximum value:\", s1.max())\n",
    "print(\"Minimum value:\", s1.min())\n",
    "print(\"Correlation:\", s1.corr(s2))\n",
    "print(\"Statistic summary:\", s1.describe())"
   ]
  },
  {
   "cell_type": "markdown",
   "id": "1837dc19",
   "metadata": {},
   "source": [
    "#### Pandas allows you to use custom python functions (including lambda)\n",
    "\n",
    "In addition to the Pandas predefined functions, we can also define and apply others to the data structures. To do this, we have to program the function to receive a value (or a column or row in the case of a DataFrame) and return another modified one, and reference it with `apply`.\n",
    "\n",
    "In addition, this function allows using **lambda expressions** for the anonymous declaration of functions.\n",
    "\n",
    "The following shows how to apply functions to series:"
   ]
  },
  {
   "cell_type": "code",
   "execution_count": 8,
   "id": "282d22bb",
   "metadata": {},
   "outputs": [
    {
     "name": "stdout",
     "output_type": "stream",
     "text": [
      "0     1\n",
      "1     4\n",
      "2     9\n",
      "3    16\n",
      "dtype: int64\n",
      "0     1\n",
      "1     4\n",
      "2     9\n",
      "3    16\n",
      "dtype: int64\n"
     ]
    }
   ],
   "source": [
    "import pandas as pd\n",
    "s = pd.Series([1, 2, 3, 4])\n",
    "\n",
    "# Explicit definition of the function\n",
    "def squared(x):\n",
    "    return x ** 2\n",
    "s1 = s.apply(squared)\n",
    "print(s1)\n",
    "\n",
    "# Anonymous definition of the function\n",
    "s2 = s.apply(lambda x: x ** 2)\n",
    "print(s2)"
   ]
  },
  {
   "cell_type": "markdown",
   "id": "40e3a3db",
   "metadata": {},
   "source": [
    "The following shows how to apply functions to a DataFrame, which can be done by row, by column or by elements, similar to series:"
   ]
  },
  {
   "cell_type": "code",
   "execution_count": 9,
   "id": "7c96f45d",
   "metadata": {},
   "outputs": [
    {
     "name": "stdout",
     "output_type": "stream",
     "text": [
      "   A  B\n",
      "0  1  4\n",
      "1  4  5\n",
      "2  9  6\n",
      "   A   B\n",
      "0  1  16\n",
      "1  4   5\n",
      "2  9   6\n",
      "    A    B\n",
      "0   1  256\n",
      "1  16   25\n",
      "2  81   36\n"
     ]
    }
   ],
   "source": [
    "df = pd.DataFrame({\n",
    "    \"A\": [1, 2, 3],\n",
    "    \"B\": [4, 5, 6]\n",
    "})\n",
    "\n",
    "# Apply function along a column\n",
    "df[\"A\"] = df[\"A\"].apply(lambda x: x ** 2)\n",
    "print(df)\n",
    "\n",
    "# Apply function along a row\n",
    "df.loc[0] = df.loc[0].apply(lambda x: x ** 2)\n",
    "print(df)\n",
    "\n",
    "# Apply function to all elements\n",
    "df = df.applymap(lambda x: x ** 2)\n",
    "print(df)"
   ]
  },
  {
   "cell_type": "markdown",
   "id": "3acb43c7",
   "metadata": {},
   "source": [
    "`apply` is more flexible than other vectorized Pandas functions, but can be slower, especially when applied to large data sets. It is always important to explore the Pandas or NumPy built-in functions first, as they are usually more efficient than the ones we could implement ourselves.\n",
    "\n",
    "Also, this function can return results in different ways, depending on the function applied and how it is configured."
   ]
  },
  {
   "cell_type": "markdown",
   "id": "a9f764b6",
   "metadata": {},
   "source": [
    "## Start practicing the Pandas syntax in python righ now!\n",
    "\n",
    "> Click on Open in Colab to do the exercises\n",
    "\n",
    "> 🛟 Solutions: In this link you can find the [solutions for the following pandas exercises](https://4geeks.com/lesson/pandas-exercises-and-solutions).\n",
    "\n",
    "\n",
    "\n",
    "### Creation of Series and Pandas DataFrames"
   ]
  },
  {
   "cell_type": "markdown",
   "id": "e3c20b3d",
   "metadata": {},
   "source": [
    "#### Pandas Exercise 01: Create a Series from a list, a NumPy array and a dictionary (★☆☆)\n",
    "\n",
    "> NOTE: Review the class `pd.Series` (https://pandas.pydata.org/docs/reference/api/pandas.Series.html)"
   ]
  },
  {
   "cell_type": "code",
   "execution_count": 13,
   "id": "8a758bcf",
   "metadata": {},
   "outputs": [
    {
     "data": {
      "text/plain": [
       "0    1\n",
       "1    2\n",
       "2    3\n",
       "3    4\n",
       "4    5\n",
       "5    6\n",
       "dtype: int64"
      ]
     },
     "execution_count": 13,
     "metadata": {},
     "output_type": "execute_result"
    }
   ],
   "source": [
    "import pandas as pd \n",
    "list    = [1, 2, 3, 4, 5, 6]\n",
    "serie   = pd.Series(list)\n",
    "serie"
   ]
  },
  {
   "cell_type": "code",
   "execution_count": 14,
   "id": "9d210b74",
   "metadata": {},
   "outputs": [
    {
     "data": {
      "text/plain": [
       "0    1\n",
       "1    2\n",
       "2    3\n",
       "3    4\n",
       "4    5\n",
       "5    6\n",
       "dtype: int64"
      ]
     },
     "execution_count": 14,
     "metadata": {},
     "output_type": "execute_result"
    }
   ],
   "source": [
    "import numpy as np\n",
    "import pandas as pd\n",
    "list    = [1, 2, 3, 4, 5, 6]\n",
    "array   = np.array(list)\n",
    "serie   = pd.Series(array)\n",
    "serie\n"
   ]
  },
  {
   "cell_type": "code",
   "execution_count": 12,
   "id": "4866f39d",
   "metadata": {},
   "outputs": [
    {
     "name": "stdout",
     "output_type": "stream",
     "text": [
      "A    1\n",
      "B    2\n",
      "C    3\n",
      "dtype: int64\n"
     ]
    }
   ],
   "source": [
    "import pandas as pd\n",
    "\n",
    "data= {\"A\": 1, \"B\": 2, \"C\": 3}\n",
    "print(pd.Series(data))"
   ]
  },
  {
   "cell_type": "markdown",
   "id": "cb8185b8",
   "metadata": {},
   "source": [
    "#### Pandas Exercise 02: Create a DataFrame from a NumPy array, a dictionary and a list of tuples (★☆☆)\n",
    "\n",
    "> NOTE: Review the class `pd.DataFrame` (https://pandas.pydata.org/docs/reference/api/pandas.DataFrame.html)"
   ]
  },
  {
   "cell_type": "code",
   "execution_count": 17,
   "id": "16cc6699",
   "metadata": {},
   "outputs": [
    {
     "data": {
      "text/html": [
       "<div>\n",
       "<style scoped>\n",
       "    .dataframe tbody tr th:only-of-type {\n",
       "        vertical-align: middle;\n",
       "    }\n",
       "\n",
       "    .dataframe tbody tr th {\n",
       "        vertical-align: top;\n",
       "    }\n",
       "\n",
       "    .dataframe thead th {\n",
       "        text-align: right;\n",
       "    }\n",
       "</style>\n",
       "<table border=\"1\" class=\"dataframe\">\n",
       "  <thead>\n",
       "    <tr style=\"text-align: right;\">\n",
       "      <th></th>\n",
       "      <th>0</th>\n",
       "      <th>1</th>\n",
       "      <th>2</th>\n",
       "      <th>3</th>\n",
       "      <th>4</th>\n",
       "    </tr>\n",
       "  </thead>\n",
       "  <tbody>\n",
       "    <tr>\n",
       "      <th>0</th>\n",
       "      <td>9</td>\n",
       "      <td>5</td>\n",
       "      <td>3</td>\n",
       "      <td>6</td>\n",
       "      <td>3</td>\n",
       "    </tr>\n",
       "    <tr>\n",
       "      <th>1</th>\n",
       "      <td>4</td>\n",
       "      <td>9</td>\n",
       "      <td>3</td>\n",
       "      <td>2</td>\n",
       "      <td>5</td>\n",
       "    </tr>\n",
       "    <tr>\n",
       "      <th>2</th>\n",
       "      <td>2</td>\n",
       "      <td>9</td>\n",
       "      <td>4</td>\n",
       "      <td>8</td>\n",
       "      <td>3</td>\n",
       "    </tr>\n",
       "    <tr>\n",
       "      <th>3</th>\n",
       "      <td>5</td>\n",
       "      <td>9</td>\n",
       "      <td>2</td>\n",
       "      <td>5</td>\n",
       "      <td>7</td>\n",
       "    </tr>\n",
       "    <tr>\n",
       "      <th>4</th>\n",
       "      <td>7</td>\n",
       "      <td>4</td>\n",
       "      <td>5</td>\n",
       "      <td>5</td>\n",
       "      <td>5</td>\n",
       "    </tr>\n",
       "  </tbody>\n",
       "</table>\n",
       "</div>"
      ],
      "text/plain": [
       "   0  1  2  3  4\n",
       "0  9  5  3  6  3\n",
       "1  4  9  3  2  5\n",
       "2  2  9  4  8  3\n",
       "3  5  9  2  5  7\n",
       "4  7  4  5  5  5"
      ]
     },
     "execution_count": 17,
     "metadata": {},
     "output_type": "execute_result"
    }
   ],
   "source": [
    "import numpy as np\n",
    "import pandas as ps\n",
    "array = np.random.randint(1, 10, size = (5, 5))\n",
    "df = pd.DataFrame(array)\n",
    "df"
   ]
  },
  {
   "cell_type": "code",
   "execution_count": 20,
   "id": "62e7cbfa",
   "metadata": {},
   "outputs": [
    {
     "data": {
      "text/html": [
       "<div>\n",
       "<style scoped>\n",
       "    .dataframe tbody tr th:only-of-type {\n",
       "        vertical-align: middle;\n",
       "    }\n",
       "\n",
       "    .dataframe tbody tr th {\n",
       "        vertical-align: top;\n",
       "    }\n",
       "\n",
       "    .dataframe thead th {\n",
       "        text-align: right;\n",
       "    }\n",
       "</style>\n",
       "<table border=\"1\" class=\"dataframe\">\n",
       "  <thead>\n",
       "    <tr style=\"text-align: right;\">\n",
       "      <th></th>\n",
       "      <th>A</th>\n",
       "      <th>B</th>\n",
       "      <th>C</th>\n",
       "    </tr>\n",
       "  </thead>\n",
       "  <tbody>\n",
       "    <tr>\n",
       "      <th>0</th>\n",
       "      <td>65</td>\n",
       "      <td>1.00</td>\n",
       "      <td>0.048007</td>\n",
       "    </tr>\n",
       "    <tr>\n",
       "      <th>1</th>\n",
       "      <td>82</td>\n",
       "      <td>3.25</td>\n",
       "      <td>-0.398113</td>\n",
       "    </tr>\n",
       "    <tr>\n",
       "      <th>2</th>\n",
       "      <td>23</td>\n",
       "      <td>5.50</td>\n",
       "      <td>1.363989</td>\n",
       "    </tr>\n",
       "    <tr>\n",
       "      <th>3</th>\n",
       "      <td>34</td>\n",
       "      <td>7.75</td>\n",
       "      <td>1.562969</td>\n",
       "    </tr>\n",
       "    <tr>\n",
       "      <th>4</th>\n",
       "      <td>55</td>\n",
       "      <td>10.00</td>\n",
       "      <td>0.496111</td>\n",
       "    </tr>\n",
       "  </tbody>\n",
       "</table>\n",
       "</div>"
      ],
      "text/plain": [
       "    A      B         C\n",
       "0  65   1.00  0.048007\n",
       "1  82   3.25 -0.398113\n",
       "2  23   5.50  1.363989\n",
       "3  34   7.75  1.562969\n",
       "4  55  10.00  0.496111"
      ]
     },
     "execution_count": 20,
     "metadata": {},
     "output_type": "execute_result"
    }
   ],
   "source": [
    "import numpy as np\n",
    "import pandas as pd\n",
    "d = {\n",
    "    \"A\": np.random.randint(10, 100, size = 5),\n",
    "    \"B\": np.linspace(1, 10, 5),\n",
    "    \"C\": np.random.randn(5)\n",
    "}\n",
    "df = pd.DataFrame(d)\n",
    "df"
   ]
  },
  {
   "cell_type": "code",
   "execution_count": 21,
   "id": "c54c78b0",
   "metadata": {},
   "outputs": [
    {
     "data": {
      "text/html": [
       "<div>\n",
       "<style scoped>\n",
       "    .dataframe tbody tr th:only-of-type {\n",
       "        vertical-align: middle;\n",
       "    }\n",
       "\n",
       "    .dataframe tbody tr th {\n",
       "        vertical-align: top;\n",
       "    }\n",
       "\n",
       "    .dataframe thead th {\n",
       "        text-align: right;\n",
       "    }\n",
       "</style>\n",
       "<table border=\"1\" class=\"dataframe\">\n",
       "  <thead>\n",
       "    <tr style=\"text-align: right;\">\n",
       "      <th></th>\n",
       "      <th>0</th>\n",
       "      <th>1</th>\n",
       "      <th>2</th>\n",
       "    </tr>\n",
       "  </thead>\n",
       "  <tbody>\n",
       "    <tr>\n",
       "      <th>0</th>\n",
       "      <td>1</td>\n",
       "      <td>2</td>\n",
       "      <td>3</td>\n",
       "    </tr>\n",
       "    <tr>\n",
       "      <th>1</th>\n",
       "      <td>4</td>\n",
       "      <td>5</td>\n",
       "      <td>6</td>\n",
       "    </tr>\n",
       "    <tr>\n",
       "      <th>2</th>\n",
       "      <td>7</td>\n",
       "      <td>8</td>\n",
       "      <td>9</td>\n",
       "    </tr>\n",
       "  </tbody>\n",
       "</table>\n",
       "</div>"
      ],
      "text/plain": [
       "   0  1  2\n",
       "0  1  2  3\n",
       "1  4  5  6\n",
       "2  7  8  9"
      ]
     },
     "execution_count": 21,
     "metadata": {},
     "output_type": "execute_result"
    }
   ],
   "source": [
    "import pandas as pd\n",
    "t  = [(1, 2, 3), (4, 5, 6), (7, 8, 9)]\n",
    "df = pd.DataFrame(t)\n",
    "df"
   ]
  },
  {
   "cell_type": "markdown",
   "id": "96424fb7",
   "metadata": {},
   "source": [
    "#### Pandas Exercise 03: Create 2 Series and use them to build a DataFrame (★☆☆)\n",
    "\n",
    "> NOTE: Review the functions `pd.concat` (https://pandas.pydata.org/docs/reference/api/pandas.concat.html) and `pd.Series.to_frame` (https://pandas.pydata.org/docs/reference/api/pandas.Series.to_frame.html)"
   ]
  },
  {
   "cell_type": "code",
   "execution_count": 25,
   "id": "36ff398e",
   "metadata": {},
   "outputs": [
    {
     "data": {
      "text/html": [
       "<div>\n",
       "<style scoped>\n",
       "    .dataframe tbody tr th:only-of-type {\n",
       "        vertical-align: middle;\n",
       "    }\n",
       "\n",
       "    .dataframe tbody tr th {\n",
       "        vertical-align: top;\n",
       "    }\n",
       "\n",
       "    .dataframe thead th {\n",
       "        text-align: right;\n",
       "    }\n",
       "</style>\n",
       "<table border=\"1\" class=\"dataframe\">\n",
       "  <thead>\n",
       "    <tr style=\"text-align: right;\">\n",
       "      <th></th>\n",
       "      <th>0</th>\n",
       "      <th>1</th>\n",
       "    </tr>\n",
       "  </thead>\n",
       "  <tbody>\n",
       "    <tr>\n",
       "      <th>0</th>\n",
       "      <td>1</td>\n",
       "      <td>6</td>\n",
       "    </tr>\n",
       "    <tr>\n",
       "      <th>1</th>\n",
       "      <td>2</td>\n",
       "      <td>7</td>\n",
       "    </tr>\n",
       "    <tr>\n",
       "      <th>2</th>\n",
       "      <td>3</td>\n",
       "      <td>8</td>\n",
       "    </tr>\n",
       "    <tr>\n",
       "      <th>3</th>\n",
       "      <td>4</td>\n",
       "      <td>9</td>\n",
       "    </tr>\n",
       "    <tr>\n",
       "      <th>4</th>\n",
       "      <td>5</td>\n",
       "      <td>0</td>\n",
       "    </tr>\n",
       "  </tbody>\n",
       "</table>\n",
       "</div>"
      ],
      "text/plain": [
       "   0  1\n",
       "0  1  6\n",
       "1  2  7\n",
       "2  3  8\n",
       "3  4  9\n",
       "4  5  0"
      ]
     },
     "execution_count": 25,
     "metadata": {},
     "output_type": "execute_result"
    }
   ],
   "source": [
    "import numpy as np\n",
    "import pandas as pd\n",
    "\n",
    "s1 = pd.Series([1, 2, 3, 4, 5])\n",
    "s2 = pd.Series([6, 7, 8, 9, 0])\n",
    "df = pd.concat([s1, s2], axis = 1)\n",
    "df"
   ]
  },
  {
   "cell_type": "markdown",
   "id": "8caafb43",
   "metadata": {},
   "source": [
    "### Filtering and updating"
   ]
  },
  {
   "cell_type": "markdown",
   "id": "1499a0a6",
   "metadata": {},
   "source": [
    "#### Exercise 04: Use the Series created in the previous exercise and select the positions of the elements of the first Series that are in the second Series (★★☆)\n",
    "\n",
    "> NOTE: Review the function `pd.Series.isin` (https://pandas.pydata.org/docs/reference/api/pandas.Series.isin.html)"
   ]
  },
  {
   "cell_type": "code",
   "execution_count": 27,
   "id": "5683a253",
   "metadata": {},
   "outputs": [
    {
     "data": {
      "text/plain": [
       "Index([3, 4], dtype='int64')"
      ]
     },
     "execution_count": 27,
     "metadata": {},
     "output_type": "execute_result"
    }
   ],
   "source": [
    "import numpy as np\n",
    "import pandas as pd\n",
    "\n",
    "s1 = pd.Series([1, 2, 3, 4, 5])\n",
    "s2 = pd.Series([4, 5, 6, 7, 8])\n",
    "\n",
    "# Method 1: Using Pandas function\n",
    "\n",
    "filtering_results = s1.isin(s2)\n",
    "index_num = s1[filtering_results].index\n",
    "\n",
    "index_num"
   ]
  },
  {
   "cell_type": "markdown",
   "id": "4303b614",
   "metadata": {},
   "source": [
    "#### Pandas Exercise 05: Use the series created in exercise 03 and list the elements that are not common between both series (★★☆)"
   ]
  },
  {
   "cell_type": "code",
   "execution_count": 28,
   "id": "477e01f4",
   "metadata": {},
   "outputs": [
    {
     "data": {
      "text/plain": [
       "array([1, 2, 3, 6, 7, 8])"
      ]
     },
     "execution_count": 28,
     "metadata": {},
     "output_type": "execute_result"
    }
   ],
   "source": [
    "import numpy as np\n",
    "import pandas as pd\n",
    "\n",
    "s1 = pd.Series([1, 2, 3, 4, 5])\n",
    "s2 = pd.Series([4, 5, 6, 7, 8])\n",
    "\n",
    "# Method 1\n",
    "unique_s1 = s1[~s1.isin(s2)]\n",
    "unique_s2 = s2[~s2.isin(s1)]\n",
    "\n",
    "unique_elements = np.concatenate([unique_s1, unique_s2])\n",
    "unique_elements"
   ]
  },
  {
   "cell_type": "markdown",
   "id": "4e7ad59c",
   "metadata": {},
   "source": [
    "#### Pandas Exercise 06: Create a DataFrame of random numbers with 5 columns and 10 rows and sort one of its columns from smallest to largest (★★☆)\n",
    "\n",
    "> NOTE: Review the function `pd.DataFrame.sort_values` (https://pandas.pydata.org/docs/reference/api/pandas.DataFrame.sort_values.html)"
   ]
  },
  {
   "cell_type": "code",
   "execution_count": 38,
   "id": "82de9a71",
   "metadata": {},
   "outputs": [],
   "source": [
    "# import numpy as np\n",
    "# import pandas as pd\n",
    "\n",
    "# array = np.random.randint(0, 10, size = (10,5))\n",
    "# df    = pd.DataFrame(array, columns = [f\"Col {i}\" for i in range(5)])\n",
    "# df"
   ]
  },
  {
   "cell_type": "code",
   "execution_count": 39,
   "id": "1e7e875f",
   "metadata": {},
   "outputs": [],
   "source": [
    "# df['Col 0'] = df['Col 0'].sort_values()\n",
    "# df"
   ]
  },
  {
   "cell_type": "code",
   "execution_count": 40,
   "id": "eaf902cd",
   "metadata": {},
   "outputs": [
    {
     "data": {
      "text/html": [
       "<div>\n",
       "<style scoped>\n",
       "    .dataframe tbody tr th:only-of-type {\n",
       "        vertical-align: middle;\n",
       "    }\n",
       "\n",
       "    .dataframe tbody tr th {\n",
       "        vertical-align: top;\n",
       "    }\n",
       "\n",
       "    .dataframe thead th {\n",
       "        text-align: right;\n",
       "    }\n",
       "</style>\n",
       "<table border=\"1\" class=\"dataframe\">\n",
       "  <thead>\n",
       "    <tr style=\"text-align: right;\">\n",
       "      <th></th>\n",
       "      <th>A</th>\n",
       "      <th>B</th>\n",
       "      <th>C</th>\n",
       "      <th>D</th>\n",
       "      <th>E</th>\n",
       "    </tr>\n",
       "  </thead>\n",
       "  <tbody>\n",
       "    <tr>\n",
       "      <th>0</th>\n",
       "      <td>0.368269</td>\n",
       "      <td>0.782688</td>\n",
       "      <td>0.959917</td>\n",
       "      <td>0.042622</td>\n",
       "      <td>0.394834</td>\n",
       "    </tr>\n",
       "    <tr>\n",
       "      <th>1</th>\n",
       "      <td>0.130373</td>\n",
       "      <td>0.280129</td>\n",
       "      <td>0.793696</td>\n",
       "      <td>0.042779</td>\n",
       "      <td>0.248880</td>\n",
       "    </tr>\n",
       "    <tr>\n",
       "      <th>2</th>\n",
       "      <td>0.806047</td>\n",
       "      <td>0.930345</td>\n",
       "      <td>0.680814</td>\n",
       "      <td>0.689045</td>\n",
       "      <td>0.610567</td>\n",
       "    </tr>\n",
       "    <tr>\n",
       "      <th>3</th>\n",
       "      <td>0.393087</td>\n",
       "      <td>0.798793</td>\n",
       "      <td>0.699642</td>\n",
       "      <td>0.942018</td>\n",
       "      <td>0.926523</td>\n",
       "    </tr>\n",
       "    <tr>\n",
       "      <th>4</th>\n",
       "      <td>0.924047</td>\n",
       "      <td>0.292442</td>\n",
       "      <td>0.839746</td>\n",
       "      <td>0.145842</td>\n",
       "      <td>0.476371</td>\n",
       "    </tr>\n",
       "    <tr>\n",
       "      <th>5</th>\n",
       "      <td>0.392185</td>\n",
       "      <td>0.778621</td>\n",
       "      <td>0.136992</td>\n",
       "      <td>0.860359</td>\n",
       "      <td>0.187700</td>\n",
       "    </tr>\n",
       "    <tr>\n",
       "      <th>6</th>\n",
       "      <td>0.468243</td>\n",
       "      <td>0.367937</td>\n",
       "      <td>0.706942</td>\n",
       "      <td>0.648925</td>\n",
       "      <td>0.101087</td>\n",
       "    </tr>\n",
       "    <tr>\n",
       "      <th>7</th>\n",
       "      <td>0.189580</td>\n",
       "      <td>0.503930</td>\n",
       "      <td>0.113749</td>\n",
       "      <td>0.000760</td>\n",
       "      <td>0.467437</td>\n",
       "    </tr>\n",
       "    <tr>\n",
       "      <th>8</th>\n",
       "      <td>0.625425</td>\n",
       "      <td>0.589087</td>\n",
       "      <td>0.106924</td>\n",
       "      <td>0.046315</td>\n",
       "      <td>0.006704</td>\n",
       "    </tr>\n",
       "    <tr>\n",
       "      <th>9</th>\n",
       "      <td>0.951780</td>\n",
       "      <td>0.478932</td>\n",
       "      <td>0.928140</td>\n",
       "      <td>0.976794</td>\n",
       "      <td>0.246697</td>\n",
       "    </tr>\n",
       "  </tbody>\n",
       "</table>\n",
       "</div>"
      ],
      "text/plain": [
       "          A         B         C         D         E\n",
       "0  0.368269  0.782688  0.959917  0.042622  0.394834\n",
       "1  0.130373  0.280129  0.793696  0.042779  0.248880\n",
       "2  0.806047  0.930345  0.680814  0.689045  0.610567\n",
       "3  0.393087  0.798793  0.699642  0.942018  0.926523\n",
       "4  0.924047  0.292442  0.839746  0.145842  0.476371\n",
       "5  0.392185  0.778621  0.136992  0.860359  0.187700\n",
       "6  0.468243  0.367937  0.706942  0.648925  0.101087\n",
       "7  0.189580  0.503930  0.113749  0.000760  0.467437\n",
       "8  0.625425  0.589087  0.106924  0.046315  0.006704\n",
       "9  0.951780  0.478932  0.928140  0.976794  0.246697"
      ]
     },
     "execution_count": 40,
     "metadata": {},
     "output_type": "execute_result"
    }
   ],
   "source": [
    "import numpy as np\n",
    "import pandas as pd\n",
    "df = pd.DataFrame(np.random.rand(10, 5), columns=['A', 'B', 'C', 'D', 'E'])\n",
    "df"
   ]
  },
  {
   "cell_type": "code",
   "execution_count": 41,
   "id": "3fdaa552",
   "metadata": {},
   "outputs": [
    {
     "name": "stdout",
     "output_type": "stream",
     "text": [
      "\n",
      "DataFrame sorted by column 'C':\n",
      "          A         B         C         D         E\n",
      "8  0.625425  0.589087  0.106924  0.046315  0.006704\n",
      "7  0.189580  0.503930  0.113749  0.000760  0.467437\n",
      "5  0.392185  0.778621  0.136992  0.860359  0.187700\n",
      "2  0.806047  0.930345  0.680814  0.689045  0.610567\n",
      "3  0.393087  0.798793  0.699642  0.942018  0.926523\n",
      "6  0.468243  0.367937  0.706942  0.648925  0.101087\n",
      "1  0.130373  0.280129  0.793696  0.042779  0.248880\n",
      "4  0.924047  0.292442  0.839746  0.145842  0.476371\n",
      "9  0.951780  0.478932  0.928140  0.976794  0.246697\n",
      "0  0.368269  0.782688  0.959917  0.042622  0.394834\n"
     ]
    }
   ],
   "source": [
    "# Sort the DataFrame by column 'C' in ascending order\n",
    "df_sorted = df.sort_values(by='C', ascending=True)\n",
    "\n",
    "print(\"\\nDataFrame sorted by column 'C':\")\n",
    "print(df_sorted)"
   ]
  },
  {
   "cell_type": "markdown",
   "id": "09f77d6a",
   "metadata": {},
   "source": [
    "#### Pandas Exercise 07: Modify the name of the 5 columns of the above DataFrame to the following format: `N_column` where `N` is the column number (★★☆)\n",
    "\n",
    "> NOTE: Review the function `pd.DataFrame.sort_values` (https://pandas.pydata.org/docs/reference/api/pandas.DataFrame.sort_values.html)"
   ]
  },
  {
   "cell_type": "code",
   "execution_count": 42,
   "id": "6c65fe4f",
   "metadata": {},
   "outputs": [
    {
     "data": {
      "text/html": [
       "<div>\n",
       "<style scoped>\n",
       "    .dataframe tbody tr th:only-of-type {\n",
       "        vertical-align: middle;\n",
       "    }\n",
       "\n",
       "    .dataframe tbody tr th {\n",
       "        vertical-align: top;\n",
       "    }\n",
       "\n",
       "    .dataframe thead th {\n",
       "        text-align: right;\n",
       "    }\n",
       "</style>\n",
       "<table border=\"1\" class=\"dataframe\">\n",
       "  <thead>\n",
       "    <tr style=\"text-align: right;\">\n",
       "      <th></th>\n",
       "      <th>0_column</th>\n",
       "      <th>1_column</th>\n",
       "      <th>2_column</th>\n",
       "      <th>3_column</th>\n",
       "      <th>4_column</th>\n",
       "    </tr>\n",
       "  </thead>\n",
       "  <tbody>\n",
       "    <tr>\n",
       "      <th>0</th>\n",
       "      <td>0.368269</td>\n",
       "      <td>0.782688</td>\n",
       "      <td>0.959917</td>\n",
       "      <td>0.042622</td>\n",
       "      <td>0.394834</td>\n",
       "    </tr>\n",
       "    <tr>\n",
       "      <th>1</th>\n",
       "      <td>0.130373</td>\n",
       "      <td>0.280129</td>\n",
       "      <td>0.793696</td>\n",
       "      <td>0.042779</td>\n",
       "      <td>0.248880</td>\n",
       "    </tr>\n",
       "    <tr>\n",
       "      <th>2</th>\n",
       "      <td>0.806047</td>\n",
       "      <td>0.930345</td>\n",
       "      <td>0.680814</td>\n",
       "      <td>0.689045</td>\n",
       "      <td>0.610567</td>\n",
       "    </tr>\n",
       "    <tr>\n",
       "      <th>3</th>\n",
       "      <td>0.393087</td>\n",
       "      <td>0.798793</td>\n",
       "      <td>0.699642</td>\n",
       "      <td>0.942018</td>\n",
       "      <td>0.926523</td>\n",
       "    </tr>\n",
       "    <tr>\n",
       "      <th>4</th>\n",
       "      <td>0.924047</td>\n",
       "      <td>0.292442</td>\n",
       "      <td>0.839746</td>\n",
       "      <td>0.145842</td>\n",
       "      <td>0.476371</td>\n",
       "    </tr>\n",
       "    <tr>\n",
       "      <th>5</th>\n",
       "      <td>0.392185</td>\n",
       "      <td>0.778621</td>\n",
       "      <td>0.136992</td>\n",
       "      <td>0.860359</td>\n",
       "      <td>0.187700</td>\n",
       "    </tr>\n",
       "    <tr>\n",
       "      <th>6</th>\n",
       "      <td>0.468243</td>\n",
       "      <td>0.367937</td>\n",
       "      <td>0.706942</td>\n",
       "      <td>0.648925</td>\n",
       "      <td>0.101087</td>\n",
       "    </tr>\n",
       "    <tr>\n",
       "      <th>7</th>\n",
       "      <td>0.189580</td>\n",
       "      <td>0.503930</td>\n",
       "      <td>0.113749</td>\n",
       "      <td>0.000760</td>\n",
       "      <td>0.467437</td>\n",
       "    </tr>\n",
       "    <tr>\n",
       "      <th>8</th>\n",
       "      <td>0.625425</td>\n",
       "      <td>0.589087</td>\n",
       "      <td>0.106924</td>\n",
       "      <td>0.046315</td>\n",
       "      <td>0.006704</td>\n",
       "    </tr>\n",
       "    <tr>\n",
       "      <th>9</th>\n",
       "      <td>0.951780</td>\n",
       "      <td>0.478932</td>\n",
       "      <td>0.928140</td>\n",
       "      <td>0.976794</td>\n",
       "      <td>0.246697</td>\n",
       "    </tr>\n",
       "  </tbody>\n",
       "</table>\n",
       "</div>"
      ],
      "text/plain": [
       "   0_column  1_column  2_column  3_column  4_column\n",
       "0  0.368269  0.782688  0.959917  0.042622  0.394834\n",
       "1  0.130373  0.280129  0.793696  0.042779  0.248880\n",
       "2  0.806047  0.930345  0.680814  0.689045  0.610567\n",
       "3  0.393087  0.798793  0.699642  0.942018  0.926523\n",
       "4  0.924047  0.292442  0.839746  0.145842  0.476371\n",
       "5  0.392185  0.778621  0.136992  0.860359  0.187700\n",
       "6  0.468243  0.367937  0.706942  0.648925  0.101087\n",
       "7  0.189580  0.503930  0.113749  0.000760  0.467437\n",
       "8  0.625425  0.589087  0.106924  0.046315  0.006704\n",
       "9  0.951780  0.478932  0.928140  0.976794  0.246697"
      ]
     },
     "execution_count": 42,
     "metadata": {},
     "output_type": "execute_result"
    }
   ],
   "source": [
    "df.columns = [f\"{i}_column\" for i in range(5)]\n",
    "df"
   ]
  },
  {
   "cell_type": "markdown",
   "id": "c0e940f8",
   "metadata": {},
   "source": [
    "#### Pandas Exercise 08: Modify the index of the rows of the DataFrame of exercise 06 (★★☆)\n",
    "\n",
    "> NOTE: Review the function `pd.DataFrame.sort_values` (https://pandas.pydata.org/docs/reference/api/pandas.DataFrame.sort_values.html)"
   ]
  },
  {
   "cell_type": "code",
   "execution_count": 43,
   "id": "820dc7a5",
   "metadata": {},
   "outputs": [
    {
     "data": {
      "text/html": [
       "<div>\n",
       "<style scoped>\n",
       "    .dataframe tbody tr th:only-of-type {\n",
       "        vertical-align: middle;\n",
       "    }\n",
       "\n",
       "    .dataframe tbody tr th {\n",
       "        vertical-align: top;\n",
       "    }\n",
       "\n",
       "    .dataframe thead th {\n",
       "        text-align: right;\n",
       "    }\n",
       "</style>\n",
       "<table border=\"1\" class=\"dataframe\">\n",
       "  <thead>\n",
       "    <tr style=\"text-align: right;\">\n",
       "      <th></th>\n",
       "      <th>A</th>\n",
       "      <th>B</th>\n",
       "      <th>C</th>\n",
       "      <th>D</th>\n",
       "      <th>E</th>\n",
       "    </tr>\n",
       "  </thead>\n",
       "  <tbody>\n",
       "    <tr>\n",
       "      <th>8</th>\n",
       "      <td>0.625425</td>\n",
       "      <td>0.589087</td>\n",
       "      <td>0.106924</td>\n",
       "      <td>0.046315</td>\n",
       "      <td>0.006704</td>\n",
       "    </tr>\n",
       "    <tr>\n",
       "      <th>7</th>\n",
       "      <td>0.189580</td>\n",
       "      <td>0.503930</td>\n",
       "      <td>0.113749</td>\n",
       "      <td>0.000760</td>\n",
       "      <td>0.467437</td>\n",
       "    </tr>\n",
       "    <tr>\n",
       "      <th>5</th>\n",
       "      <td>0.392185</td>\n",
       "      <td>0.778621</td>\n",
       "      <td>0.136992</td>\n",
       "      <td>0.860359</td>\n",
       "      <td>0.187700</td>\n",
       "    </tr>\n",
       "    <tr>\n",
       "      <th>2</th>\n",
       "      <td>0.806047</td>\n",
       "      <td>0.930345</td>\n",
       "      <td>0.680814</td>\n",
       "      <td>0.689045</td>\n",
       "      <td>0.610567</td>\n",
       "    </tr>\n",
       "    <tr>\n",
       "      <th>3</th>\n",
       "      <td>0.393087</td>\n",
       "      <td>0.798793</td>\n",
       "      <td>0.699642</td>\n",
       "      <td>0.942018</td>\n",
       "      <td>0.926523</td>\n",
       "    </tr>\n",
       "    <tr>\n",
       "      <th>6</th>\n",
       "      <td>0.468243</td>\n",
       "      <td>0.367937</td>\n",
       "      <td>0.706942</td>\n",
       "      <td>0.648925</td>\n",
       "      <td>0.101087</td>\n",
       "    </tr>\n",
       "    <tr>\n",
       "      <th>1</th>\n",
       "      <td>0.130373</td>\n",
       "      <td>0.280129</td>\n",
       "      <td>0.793696</td>\n",
       "      <td>0.042779</td>\n",
       "      <td>0.248880</td>\n",
       "    </tr>\n",
       "    <tr>\n",
       "      <th>4</th>\n",
       "      <td>0.924047</td>\n",
       "      <td>0.292442</td>\n",
       "      <td>0.839746</td>\n",
       "      <td>0.145842</td>\n",
       "      <td>0.476371</td>\n",
       "    </tr>\n",
       "    <tr>\n",
       "      <th>9</th>\n",
       "      <td>0.951780</td>\n",
       "      <td>0.478932</td>\n",
       "      <td>0.928140</td>\n",
       "      <td>0.976794</td>\n",
       "      <td>0.246697</td>\n",
       "    </tr>\n",
       "    <tr>\n",
       "      <th>0</th>\n",
       "      <td>0.368269</td>\n",
       "      <td>0.782688</td>\n",
       "      <td>0.959917</td>\n",
       "      <td>0.042622</td>\n",
       "      <td>0.394834</td>\n",
       "    </tr>\n",
       "  </tbody>\n",
       "</table>\n",
       "</div>"
      ],
      "text/plain": [
       "          A         B         C         D         E\n",
       "8  0.625425  0.589087  0.106924  0.046315  0.006704\n",
       "7  0.189580  0.503930  0.113749  0.000760  0.467437\n",
       "5  0.392185  0.778621  0.136992  0.860359  0.187700\n",
       "2  0.806047  0.930345  0.680814  0.689045  0.610567\n",
       "3  0.393087  0.798793  0.699642  0.942018  0.926523\n",
       "6  0.468243  0.367937  0.706942  0.648925  0.101087\n",
       "1  0.130373  0.280129  0.793696  0.042779  0.248880\n",
       "4  0.924047  0.292442  0.839746  0.145842  0.476371\n",
       "9  0.951780  0.478932  0.928140  0.976794  0.246697\n",
       "0  0.368269  0.782688  0.959917  0.042622  0.394834"
      ]
     },
     "execution_count": 43,
     "metadata": {},
     "output_type": "execute_result"
    }
   ],
   "source": [
    "df_sorted"
   ]
  },
  {
   "cell_type": "code",
   "execution_count": 44,
   "id": "8c702d38",
   "metadata": {},
   "outputs": [
    {
     "data": {
      "text/html": [
       "<div>\n",
       "<style scoped>\n",
       "    .dataframe tbody tr th:only-of-type {\n",
       "        vertical-align: middle;\n",
       "    }\n",
       "\n",
       "    .dataframe tbody tr th {\n",
       "        vertical-align: top;\n",
       "    }\n",
       "\n",
       "    .dataframe thead th {\n",
       "        text-align: right;\n",
       "    }\n",
       "</style>\n",
       "<table border=\"1\" class=\"dataframe\">\n",
       "  <thead>\n",
       "    <tr style=\"text-align: right;\">\n",
       "      <th></th>\n",
       "      <th>A</th>\n",
       "      <th>B</th>\n",
       "      <th>C</th>\n",
       "      <th>D</th>\n",
       "      <th>E</th>\n",
       "    </tr>\n",
       "  </thead>\n",
       "  <tbody>\n",
       "    <tr>\n",
       "      <th>row_0</th>\n",
       "      <td>0.625425</td>\n",
       "      <td>0.589087</td>\n",
       "      <td>0.106924</td>\n",
       "      <td>0.046315</td>\n",
       "      <td>0.006704</td>\n",
       "    </tr>\n",
       "    <tr>\n",
       "      <th>row_1</th>\n",
       "      <td>0.189580</td>\n",
       "      <td>0.503930</td>\n",
       "      <td>0.113749</td>\n",
       "      <td>0.000760</td>\n",
       "      <td>0.467437</td>\n",
       "    </tr>\n",
       "    <tr>\n",
       "      <th>row_2</th>\n",
       "      <td>0.392185</td>\n",
       "      <td>0.778621</td>\n",
       "      <td>0.136992</td>\n",
       "      <td>0.860359</td>\n",
       "      <td>0.187700</td>\n",
       "    </tr>\n",
       "    <tr>\n",
       "      <th>row_3</th>\n",
       "      <td>0.806047</td>\n",
       "      <td>0.930345</td>\n",
       "      <td>0.680814</td>\n",
       "      <td>0.689045</td>\n",
       "      <td>0.610567</td>\n",
       "    </tr>\n",
       "    <tr>\n",
       "      <th>row_4</th>\n",
       "      <td>0.393087</td>\n",
       "      <td>0.798793</td>\n",
       "      <td>0.699642</td>\n",
       "      <td>0.942018</td>\n",
       "      <td>0.926523</td>\n",
       "    </tr>\n",
       "    <tr>\n",
       "      <th>row_5</th>\n",
       "      <td>0.468243</td>\n",
       "      <td>0.367937</td>\n",
       "      <td>0.706942</td>\n",
       "      <td>0.648925</td>\n",
       "      <td>0.101087</td>\n",
       "    </tr>\n",
       "    <tr>\n",
       "      <th>row_6</th>\n",
       "      <td>0.130373</td>\n",
       "      <td>0.280129</td>\n",
       "      <td>0.793696</td>\n",
       "      <td>0.042779</td>\n",
       "      <td>0.248880</td>\n",
       "    </tr>\n",
       "    <tr>\n",
       "      <th>row_7</th>\n",
       "      <td>0.924047</td>\n",
       "      <td>0.292442</td>\n",
       "      <td>0.839746</td>\n",
       "      <td>0.145842</td>\n",
       "      <td>0.476371</td>\n",
       "    </tr>\n",
       "    <tr>\n",
       "      <th>row_8</th>\n",
       "      <td>0.951780</td>\n",
       "      <td>0.478932</td>\n",
       "      <td>0.928140</td>\n",
       "      <td>0.976794</td>\n",
       "      <td>0.246697</td>\n",
       "    </tr>\n",
       "    <tr>\n",
       "      <th>row_9</th>\n",
       "      <td>0.368269</td>\n",
       "      <td>0.782688</td>\n",
       "      <td>0.959917</td>\n",
       "      <td>0.042622</td>\n",
       "      <td>0.394834</td>\n",
       "    </tr>\n",
       "  </tbody>\n",
       "</table>\n",
       "</div>"
      ],
      "text/plain": [
       "              A         B         C         D         E\n",
       "row_0  0.625425  0.589087  0.106924  0.046315  0.006704\n",
       "row_1  0.189580  0.503930  0.113749  0.000760  0.467437\n",
       "row_2  0.392185  0.778621  0.136992  0.860359  0.187700\n",
       "row_3  0.806047  0.930345  0.680814  0.689045  0.610567\n",
       "row_4  0.393087  0.798793  0.699642  0.942018  0.926523\n",
       "row_5  0.468243  0.367937  0.706942  0.648925  0.101087\n",
       "row_6  0.130373  0.280129  0.793696  0.042779  0.248880\n",
       "row_7  0.924047  0.292442  0.839746  0.145842  0.476371\n",
       "row_8  0.951780  0.478932  0.928140  0.976794  0.246697\n",
       "row_9  0.368269  0.782688  0.959917  0.042622  0.394834"
      ]
     },
     "execution_count": 44,
     "metadata": {},
     "output_type": "execute_result"
    }
   ],
   "source": [
    "df_sorted.index = [f\"row_{i}\" for i in range(10)]\n",
    "df_sorted"
   ]
  }
 ],
 "metadata": {
  "kernelspec": {
   "display_name": "Python 3",
   "language": "python",
   "name": "python3"
  },
  "language_info": {
   "codemirror_mode": {
    "name": "ipython",
    "version": 3
   },
   "file_extension": ".py",
   "mimetype": "text/x-python",
   "name": "python",
   "nbconvert_exporter": "python",
   "pygments_lexer": "ipython3",
   "version": "3.12.1"
  }
 },
 "nbformat": 4,
 "nbformat_minor": 5
}
